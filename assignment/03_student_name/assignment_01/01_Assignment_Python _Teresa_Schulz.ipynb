{
  "metadata": {
    "kernelspec": {
      "name": "python",
      "display_name": "Python (Pyodide)",
      "language": "python"
    },
    "language_info": {
      "codemirror_mode": {
        "name": "python",
        "version": 3
      },
      "file_extension": ".py",
      "mimetype": "text/x-python",
      "name": "python",
      "nbconvert_exporter": "python",
      "pygments_lexer": "ipython3",
      "version": "3.8"
    },
    "colab": {
      "provenance": [],
      "collapsed_sections": []
    }
  },
  "nbformat_minor": 4,
  "nbformat": 4,
  "cells": [
    {
      "cell_type": "markdown",
      "source": "# Assignment 01\n##### Python Basics I\n\nThis tutorial was written by Terry Ruas (University of Göttingen). The references for external contributors for which this material was anyhow adapted/inspired are in the Acknowledgments section (end of the document).\n",
      "metadata": {
        "id": "LZgQdr4W6iKz"
      }
    },
    {
      "cell_type": "markdown",
      "source": "## Task 01 – Hello World!\nWrite a simple program that asks the user to input a name and outputs a simple greeting, such as ‘Hi Name! Nice to meet you!’ and in the other line, ‘Welcome to the Programing Course!’. \n\n*Hint: Check out the input () and print() function in Python.* ",
      "metadata": {
        "id": "4GPUv_8U6iK1"
      }
    },
    {
      "cell_type": "code",
      "source": "name = input(\"What is your name?\") \n\nprint(\"Hi \",name, \"! Nice to meet you!\")\nprint(\"Welcome to the Programming course!\")   \n\n#I keep getting the <future pending> placeholder and the input field only appears after the print\n# might be able to solve with await input, but not quite sure how to go about that, \n#according to various people on the internet i need to import the  asyncio.futures.Future function \n#but i am not sure how to do that",
      "metadata": {
        "id": "xt3XV0YD6iK2",
        "trusted": true
      },
      "execution_count": 66,
      "outputs": [
        {
          "name": "stdout",
          "text": "Hi  <Future pending> ! Nice to meet you!\nWelcome to the Programming course!\n",
          "output_type": "stream"
        }
      ]
    },
    {
      "cell_type": "code",
      "source": "",
      "metadata": {},
      "execution_count": null,
      "outputs": []
    },
    {
      "cell_type": "code",
      "source": "",
      "metadata": {},
      "execution_count": null,
      "outputs": []
    },
    {
      "cell_type": "markdown",
      "source": "## Task 02 – Reversed Words\nWrite a program that reads in a word provided by the user and prints the word in a reversed order. For example, if the input is hello, the output should be ‘olleh’. \n\n- Use a loop structure \n- Use just array indexes \n",
      "metadata": {
        "id": "_Jz4T4AQ6iK3"
      }
    },
    {
      "cell_type": "code",
      "source": "word = input(\"Enter a word to reverse: \")\ndef reverse(word):\n    reversedword = '' # set new variable for reversed word\n    index = len(word) # set to lenght of word\n    while index > 0: # python counts from 0, so index needs adjustment to include all letters/ i need to remember indeting the following block\n        reversedword += word[index - 1] # +=-> addition assignment, menas A+=B equals A=A+B?\n        index = index -1 # loop takes next character from the back\n    return reversedword \n\nprint (reverse(word)) # same problem with user input as in Task 01, it works if word is defined with \"randomword\" instead of user input",
      "metadata": {
        "id": "aKLGcZ0_6iK3",
        "trusted": true
      },
      "execution_count": 77,
      "outputs": [
        {
          "ename": "<class 'TypeError'>",
          "evalue": "object of type 'Future' has no len()",
          "traceback": [
            "\u001b[0;31m---------------------------------------------------------------------------\u001b[0m",
            "\u001b[0;31mTypeError\u001b[0m                                 Traceback (most recent call last)",
            "Cell \u001b[0;32mIn [77], line 10\u001b[0m\n\u001b[1;32m      7\u001b[0m         index \u001b[38;5;241m=\u001b[39m index \u001b[38;5;241m-\u001b[39m\u001b[38;5;241m1\u001b[39m \u001b[38;5;66;03m#loop takes next character from the back\u001b[39;00m\n\u001b[1;32m      8\u001b[0m     \u001b[38;5;28;01mreturn\u001b[39;00m reversedword \n\u001b[0;32m---> 10\u001b[0m \u001b[38;5;28mprint\u001b[39m (\u001b[43mreverse\u001b[49m\u001b[43m(\u001b[49m\u001b[43mword\u001b[49m\u001b[43m)\u001b[49m)\n",
            "Cell \u001b[0;32mIn [77], line 4\u001b[0m, in \u001b[0;36mreverse\u001b[0;34m(word)\u001b[0m\n\u001b[1;32m      2\u001b[0m \u001b[38;5;28;01mdef\u001b[39;00m \u001b[38;5;21mreverse\u001b[39m(word):\n\u001b[1;32m      3\u001b[0m     reversedword \u001b[38;5;241m=\u001b[39m \u001b[38;5;124m'\u001b[39m\u001b[38;5;124m'\u001b[39m \u001b[38;5;66;03m#set new variable for reversed word\u001b[39;00m\n\u001b[0;32m----> 4\u001b[0m     index \u001b[38;5;241m=\u001b[39m \u001b[38;5;28;43mlen\u001b[39;49m\u001b[43m(\u001b[49m\u001b[43mword\u001b[49m\u001b[43m)\u001b[49m \u001b[38;5;66;03m#set to lenght of word\u001b[39;00m\n\u001b[1;32m      5\u001b[0m     \u001b[38;5;28;01mwhile\u001b[39;00m index \u001b[38;5;241m>\u001b[39m \u001b[38;5;241m0\u001b[39m: \u001b[38;5;66;03m#python counts from 0, so index needs adjustment to include all letters/ i need to remember indeting the following block\u001b[39;00m\n\u001b[1;32m      6\u001b[0m         reversedword \u001b[38;5;241m+\u001b[39m\u001b[38;5;241m=\u001b[39m word[index \u001b[38;5;241m-\u001b[39m \u001b[38;5;241m1\u001b[39m] \u001b[38;5;66;03m# +=-> addition assignment, menas A+=B equals A=A+B?\u001b[39;00m\n",
            "\u001b[0;31mTypeError\u001b[0m: object of type 'Future' has no len()"
          ],
          "output_type": "error"
        },
        {
          "output_type": "stream",
          "name": "stdin",
          "text": "Enter a word to reverse:  erew\n"
        }
      ]
    },
    {
      "cell_type": "code",
      "source": "",
      "metadata": {},
      "execution_count": null,
      "outputs": []
    },
    {
      "cell_type": "markdown",
      "source": "## Task 03 –  Fibonacci Numbers\nWrite a program that reads in an upper bound (number) provided by the user and prints the sequence of Fibonacci numbers that are less or equal to the number given by the user. Use a while-loop for this task. \n\nThe Fibonacci sequence is defined as \n$ F_{n}=F_{n−1}+F_{n−2}$. Use $F_{0}=0$ and $F_{1} = 1$ as seed values.  \n\nFor example, if the user inputs 6, the output should be 0, 1, 1, 2, 3, 5. \n\n\n\n",
      "metadata": {
        "id": "PalhJ9x36iK4"
      }
    },
    {
      "cell_type": "code",
      "source": "upperbound = int((input(\"Enter a natural number up to which you want to see the Fibonacci Serie: \"))+1) \n#I tried to solve the pyhton counting from 0 problem up here, I have no possibility to check how it works \n# combined with input() due to problem stated in Task 1, it runs with numbers\n\n\ni = 0  #define starting values for fibonacci\nF1 = 0\nF2 = 1\n           \nwhile(i < upperbound):           #define following values and display values, the thing in the brackets has\n    if(i <= 1):                  #no actual function i think? but it needds to be there else it does not run for some reason\n        F3 = i\n    else:                        #fibonacci formula\n        F3 = F1 + F2\n        F1 = F2\n        F2 = F3\n    while (F3 <= upperbound):    #we need to stop this loop somehow, \"if(F3 <= upperbound):\" did not work\n        print(F3)                # so i tried another while loop and somehow it works, but i don't know why \n    \n        break\n    \n    i = i + 1",
      "metadata": {
        "id": "vm5UlcKB6iK4",
        "trusted": true
      },
      "execution_count": 134,
      "outputs": [
        {
          "name": "stdout",
          "text": "0\n1\n1\n2\n3\n5\n8\n",
          "output_type": "stream"
        }
      ]
    },
    {
      "cell_type": "markdown",
      "source": "## Task 04 – Selective Printing \n\nWrite a program that reads in an upper bound (number) provided by the user and prints all integer numbers that are less or equal to the upper bound except the integer numbers that are divisible by 3. Use the continue statement. For example, if the user enters 6 as the upper bound, the output should be 0, 1, 2, 4, 5.  ",
      "metadata": {
        "id": "JV1Mm9qA6iK5"
      }
    },
    {
      "cell_type": "code",
      "source": "number = int(input(\"Up to what number do you what to filter out numbers divisible by 3? \")+1) \n\nfor i in range(0, number, 1): #min, max, step\n    if i%3!=0:\n        print(i)\n    elif x==0\n    print(i)",
      "metadata": {
        "id": "C3i7ctus6iK6",
        "trusted": true
      },
      "execution_count": 1,
      "outputs": [
        {
          "ename": "<class 'TypeError'>",
          "evalue": "unsupported operand type(s) for +: 'Future' and 'int'",
          "traceback": [
            "\u001b[0;31m---------------------------------------------------------------------------\u001b[0m",
            "\u001b[0;31mTypeError\u001b[0m                                 Traceback (most recent call last)",
            "Cell \u001b[0;32mIn [1], line 1\u001b[0m\n\u001b[0;32m----> 1\u001b[0m number \u001b[38;5;241m=\u001b[39m \u001b[38;5;28mint\u001b[39m(\u001b[38;5;28;43minput\u001b[39;49m\u001b[43m(\u001b[49m\u001b[38;5;124;43m\"\u001b[39;49m\u001b[38;5;124;43mUp to what number do you what to filter out numbers divisible by 3? \u001b[39;49m\u001b[38;5;124;43m\"\u001b[39;49m\u001b[43m)\u001b[49m\u001b[38;5;241;43m+\u001b[39;49m\u001b[38;5;241;43m1\u001b[39;49m) \n\u001b[1;32m      2\u001b[0m N \u001b[38;5;241m=\u001b[39m [\u001b[38;5;241m1\u001b[39m, \u001b[38;5;241m2\u001b[39m, \u001b[38;5;241m3\u001b[39m, \u001b[38;5;241m4\u001b[39m, \u001b[38;5;241m5\u001b[39m, \u001b[38;5;241m.\u001b[39m\u001b[38;5;241m.\u001b[39m\u001b[38;5;241m.\u001b[39m]\n\u001b[1;32m      4\u001b[0m \u001b[38;5;28;01mfor\u001b[39;00m i \u001b[38;5;129;01min\u001b[39;00m \u001b[38;5;28mrange\u001b[39m(\u001b[38;5;241m0\u001b[39m, number, \u001b[38;5;241m1\u001b[39m): \u001b[38;5;66;03m#min, max, step\u001b[39;00m\n",
            "\u001b[0;31mTypeError\u001b[0m: unsupported operand type(s) for +: 'Future' and 'int'"
          ],
          "output_type": "error"
        },
        {
          "output_type": "stream",
          "name": "stdin",
          "text": "Up to what number do you what to filter out numbers divisible by 3?  5\n"
        }
      ]
    },
    {
      "cell_type": "markdown",
      "source": "## Task 05 – Triangle Checking   \n\nWrite a Python program that asks the user to input the lengths of the sides in a triangle and outputs whether the triangle is equilateral, isosceles, or scalene. The program should also check for the Triangle inequality $(z < x + y)$,  and prompt the user for a valid input. \n\n- An equilateral triangle is a triangle in which all three sides are of equal length. \n- An isosceles triangle is a triangle with (at least) two sides of equal length. \n- A scalene triangle is a triangle in which all three sides have different lengths. \n\nFor example, if the user inputs a=3, b=4, c=5, the triangle is scalene. \n",
      "metadata": {
        "id": "qz4P36Lz6iK6",
        "tags": []
      }
    },
    {
      "cell_type": "code",
      "source": "z = float(input(\"Enter the first side of your triangle: \")+1)\nx = float(input(\"The second: \")+1)\ny = float(input(\"The third: \")+1)\n\nwhile((z>0 and y>0 and x>0) and (z<x+y or x<z+y or y<x+z)):                    #I have no idea what i am doing, it did not stop executing the loop and the to the numbers corresponding print option at some point, now it does not work at all\n      if (z == x + y or y == z+x or x == z+y):\n            print(\"this is an isosceles triangle!\")\n  \n      elif (z == x == y):\n           print(\"this is an equilateral triangle\")\n  \n      else\n           print(\"this is an scalene triangle\")\n    \n    break\n    \nelse: \n        print(\"This is not a triangle. Please enter other numbers.\")\n ",
      "metadata": {
        "id": "2c67p_Zc6iK7",
        "trusted": true
      },
      "execution_count": null,
      "outputs": []
    },
    {
      "cell_type": "markdown",
      "source": "## Task 06 – Decimal to Octal Conversion \n\nWrite a program that reads a non-negative integer number in the decimal representation provided by the user and prints the octal representation of the number. For example, if the user enters 167, the output should be 247.  \n\nWrite a more general program that reads in a non-negative number (potentially including decimal places) in the decimal representation provided by the user and prints the octal representation of the number. For example, if the user enters 25.11, the output should be 31.0702436560507534. ",
      "metadata": {
        "id": "k1kh3odh6iK7"
      }
    },
    {
      "cell_type": "code",
      "source": "i = int(input(\"What decimal number do you want to convert to octal? \"))\n\ndef decitooct(i):\n    if i < 8:\n        return i    #because octal and python both start counting at zero, no +1 alteration needs to be made\n    else:\n        return str(i % 8) + str(decitooct(i // 8)) #divide i by 8 and add what remains in the digit fiel behind that\n\nprint(decitooct(i))\n\n\n#once again runs if i define i as specific number, not input, compare to problem in Task 1",
      "metadata": {
        "id": "2-UCbTRQ6iK7",
        "trusted": true
      },
      "execution_count": 37,
      "outputs": [
        {
          "name": "stdout",
          "text": "61\n",
          "output_type": "stream"
        }
      ]
    },
    {
      "cell_type": "markdown",
      "source": "## Acknowledgements\n\nRedmond, Hsu, Saini, Gupta, Ramsey, Kondrich, Capoor, Cohen, Borus, Kincaid, Malik, and many others. - Stanford CS41",
      "metadata": {
        "id": "Wl9JCEYM6iK-"
      }
    },
    {
      "cell_type": "code",
      "source": "",
      "metadata": {
        "id": "Bx-WQj4v6iK-"
      },
      "execution_count": null,
      "outputs": []
    }
  ]
}