{
 "cells": [
  {
   "cell_type": "markdown",
   "metadata": {
    "id": "LZgQdr4W6iKz"
   },
   "source": [
    "# Assignment 02\n",
    "##### Python Basics II\n",
    "\n",
    "This tutorial was written by Terry Ruas (University of Göttingen); The references for external contributors for which this material was anyhow adapted/inspired are in the Acknowledgments section (end of the document).\n"
   ]
  },
  {
   "cell_type": "markdown",
   "metadata": {
    "id": "Yvektzz_6iK1"
   },
   "source": [
    "This notebook will cover the following tasks:\n",
    "\n",
    "1. String Length\n",
    "2. Largest List Element\n",
    "3. Character Frequency\n",
    "4. Sorted List of Tuples\n",
    "5. Check Brackets\n",
    "6. Check Brackets II\n",
    "7. Queue\n",
    "8. Unlimited Power\n",
    "9. Unlimited Power II"
   ]
  },
  {
   "cell_type": "markdown",
   "metadata": {
    "id": "4GPUv_8U6iK1"
   },
   "source": [
    "## Task 01 – String Length\n",
    "Write a program that reads in a string and prints the length of the input string. Do not use any built-in functions of Python, such as len().\n",
    "For example, if the input is “Computer Science”, the output should be length: 16."
   ]
  },
  {
   "cell_type": "code",
   "execution_count": 3,
   "metadata": {
    "id": "xt3XV0YD6iK2"
   },
   "outputs": [
    {
     "name": "stdin",
     "output_type": "stream",
     "text": [
      "Write something :) poto\n"
     ]
    },
    {
     "data": {
      "text/plain": [
       "4"
      ]
     },
     "execution_count": 3,
     "metadata": {},
     "output_type": "execute_result"
    }
   ],
   "source": [
    "count = 0\n",
    "string  = input(\"Write something :)\") \n",
    "\n",
    "for i in string:\n",
    "    count += 1\n",
    "    \n",
    "count"
   ]
  },
  {
   "cell_type": "markdown",
   "metadata": {
    "id": "_Jz4T4AQ6iK3"
   },
   "source": [
    "## Task 02 – Largest List Element\n",
    "Write a program that generates a list of 10 random integers between 1 and 100 and then finds and prints the largest element in the list. Do not use the built-in function max().\n",
    "For example, if the input is [23,3,42,29,12,15,8,4,37,34], the output should be the largest element: 42.\n",
    "\n",
    "Hint: Check out the module [random](https://docs.python.org/3.7/library/random.html)."
   ]
  },
  {
   "cell_type": "code",
   "execution_count": 4,
   "metadata": {
    "id": "aKLGcZ0_6iK3"
   },
   "outputs": [
    {
     "name": "stdout",
     "output_type": "stream",
     "text": [
      "[44, 80, 93, 65, 63, 99, 78, 12, 11, 38]\n",
      "\n",
      "The maximum value withing this list ist:  99\n"
     ]
    }
   ],
   "source": [
    "import random\n",
    "list=[]\n",
    "n = 10\n",
    "\n",
    "# selects and prints the 10 random values to be stored in \"list\"\n",
    "for i in range(n):\n",
    "    list.append(random.randint(1,100))\n",
    "print(list)\n",
    "\n",
    "print()\n",
    "max = list[0]  # initialise the max value as the first in the list\n",
    "for i in list:\n",
    "    if i > max:  # i goes through each value in the list, if i is bigger then max is set as i\n",
    "        max = i\n",
    "print(\"The maximum value withing this list ist: \", max)\n",
    "    \n",
    "    "
   ]
  },
  {
   "cell_type": "markdown",
   "metadata": {
    "id": "PalhJ9x36iK4"
   },
   "source": [
    "## Task 03 – Character Frequency\n",
    "Write a program that:\n",
    "* Reads in a string and removes any spaces from the string\n",
    "* Counts how often individual characters occur in the string\n",
    "* Stores the information on character occurrence frequency in a dictionary\n",
    "* Prints the dictionary.\n",
    "\n",
    "For example, if the input is “santa claus”, the output should be:\n",
    "{'s': 2, 'a': 3, 'n': 1, 't': 1, 'c': 1, 'l': 1, 'u': 1}."
   ]
  },
  {
   "cell_type": "code",
   "execution_count": 5,
   "metadata": {
    "id": "vm5UlcKB6iK4"
   },
   "outputs": [
    {
     "name": "stdin",
     "output_type": "stream",
     "text": [
      "Write something :) mottaloca\n"
     ]
    },
    {
     "name": "stdout",
     "output_type": "stream",
     "text": [
      "\n",
      "Count of characters is:\n",
      "{'m': 1, 'o': 2, 't': 2, 'a': 2, 'l': 1, 'c': 1}\n"
     ]
    }
   ],
   "source": [
    "string2 = input(\"Write something :)\")\n",
    "\n",
    "def remove(string2):\n",
    "    return string2.replace(\" \", \"\")\n",
    "\n",
    "string2 = remove(string2)\n",
    "# print(string2) # checks if the whitespaces were erased\n",
    "\n",
    "copy_s2 = string2 # creating a copy of the string for comparison\n",
    "char_counts = dict()  # dict can be used to store character frequencies\n",
    "for element in copy_s2:\n",
    "    count = 0\n",
    "    for character in string2:\n",
    "        if character == element:\n",
    "            count += 1 # calculates the count of a character\n",
    "    char_counts[element] = count # adds character as the key and the count as the value to the dict\n",
    "print()\n",
    "print(\"Count of characters is:\")\n",
    "print(char_counts)\n"
   ]
  },
  {
   "cell_type": "markdown",
   "metadata": {
    "id": "JV1Mm9qA6iK5",
    "tags": []
   },
   "source": [
    "## Task 04 – Sorted List of Tuples\n",
    "Write a program that:\n",
    "* Generates a list of 10 tuples, each tuple consisting of 3 random integers between 1 and 100\n",
    "* Sorts the list of tuples in increasing order of the third element in each tuple\n",
    "* Prints the sorted list of tuples\n",
    "\n",
    "For example, if the generated input list is: [(56, 77, 69), (43, 30, 38), (2, 77, 101), (93, 57, 4), (74, 21, 77), (39, 68, 68), (65, 53, 96), (16, 29, 88), (88, 70, 38)]\n",
    "The output should be: [(93, 57, 4), (43, 30, 38), (88, 70, 38), (39, 68, 68), (56, 77, 69), (74, 21, 77), (16, 29, 88), (65, 53, 96), (2, 77, 101)]\n",
    "\n",
    "Hint: You are allowed and encouraged to use built-in functions, such as [sorted()](https://docs.python.org/3.7/library/functions.html?highlight=sorted#sorted), for this task."
   ]
  },
  {
   "cell_type": "code",
   "execution_count": 6,
   "metadata": {
    "id": "C3i7ctus6iK6"
   },
   "outputs": [
    {
     "name": "stdout",
     "output_type": "stream",
     "text": [
      "Unsorted list:  [(12, 7, 40), (39, 73, 46), (91, 20, 14), (13, 2, 32), (81, 38, 36), (93, 74, 61), (99, 88, 6), (7, 54, 52), (88, 26, 82), (64, 10, 35)]\n",
      "\n",
      "Sorted list:  [(99, 88, 6), (91, 20, 14), (13, 2, 32), (64, 10, 35), (81, 38, 36), (12, 7, 40), (39, 73, 46), (7, 54, 52), (93, 74, 61), (88, 26, 82)]\n"
     ]
    }
   ],
   "source": [
    "tuples=[]\n",
    "count = 0\n",
    "\n",
    "# creates a list with 30 random values\n",
    "for i in range (10):\n",
    "    for i in range(3):\n",
    "        tuples.append(random.randint(1,100))  # creates a list with three random integer values\n",
    "# print(tuples)\n",
    "\n",
    "# groups every 3 elements into a tuple\n",
    "tuples_separated = [x for x in zip(*[iter(tuples)]*3)] # List comprehension along with zip() function to convert tuples to list and create a list of tuples. Iter() function is used to iterate an element of an object at a time. *3 specifies the number of elements to be clubbed into a single tuple to form a list.\n",
    "print(\"Unsorted list: \", tuples_separated)\n",
    "\n",
    "print()\n",
    "# print(sorted(tuples_separated))  # sorts according to the first element in each tuple\n",
    "\n",
    "print(\"Sorted list: \" , sorted(tuples_separated, key=lambda third_element: third_element[2])) # sorts according to the third element within each tuple"
   ]
  },
  {
   "cell_type": "markdown",
   "metadata": {
    "id": "qz4P36Lz6iK6"
   },
   "source": [
    "## Task 05 – Check Brackets\n",
    "Write a program that reads in a string, which is supposed to be a mathematical expression. Focus on brackets only and check whether left and right brackets are composed correctly. Ignore all other characters (i.e. you don’t have to check correctness of operators and operands).\n",
    "Examples of correct input:\n",
    "* 3*(2+5)\n",
    "* ((()())())\n",
    "* (3+)(((4)))\n",
    "* Empty string\n",
    "\n",
    "Examples of incorrect input:\n",
    "* (3*(2+5)\n",
    "* ((()())(())\n",
    "* (3+)((4)))\n",
    "* ())(()\n"
   ]
  },
  {
   "cell_type": "code",
   "execution_count": 8,
   "metadata": {
    "id": "2c67p_Zc6iK7"
   },
   "outputs": [
    {
     "name": "stdin",
     "output_type": "stream",
     "text": [
      "Type in a mathematical expression: //)===(()))))((((\n"
     ]
    },
    {
     "name": "stdout",
     "output_type": "stream",
     "text": [
      "\n",
      "True\n",
      "There are no brackets missing.\n"
     ]
    }
   ],
   "source": [
    " s = str(input(\"Type in a mathematical expression:\"))\n",
    "count = 0\n",
    "count2 = 0\n",
    "\n",
    "if len(s) == 0:  # in case the string is empty\n",
    "    True\n",
    "        \n",
    "for i in range(len(s)):\n",
    "    if s[i] == \"(\":\n",
    "        count+=1\n",
    "    elif s[i] == \")\":\n",
    "        count2+=1\n",
    "\n",
    "print()  \n",
    "\n",
    "if count > count2 and count-count2==1: # in case only one bracket is missing, at the beginning\n",
    "    print(count == count2)\n",
    "    print(\"There is\", count-count2,\"bracket missing at the beginning.\")\n",
    "elif count < count2 and count2-count==1: # in case only one bracket is missing, at the end\n",
    "    print(count == count2)\n",
    "    print(\"There is\", count2-count,\"bracket missing at the end.\")\n",
    "elif count != count2 and count > count2:\n",
    "    print(count == count2)\n",
    "    print(\"There are\", count-count2,\"brackets missing.\")\n",
    "elif count != count2 and count < count2:\n",
    "    print(count == count2)\n",
    "    print(\"There are\", count2-count,\"brackets missing.\")\n",
    "else: # in case no brackets are missing\n",
    "    print(count == count2)\n",
    "    print(\"There are no brackets missing.\")\n",
    "\n",
    "#esta malo porque si pongo primero ))) y luego ((( aun asi me dice que no hay brackets missing"
   ]
  },
  {
   "cell_type": "markdown",
   "metadata": {
    "id": "k1kh3odh6iK7"
   },
   "source": [
    "## Task 06 – Check Brackets II\n",
    "Extend previous program, so it can handle also square and curly brackets. Note that expressions in brackets cannot overlap. So, expression ```{[()()]([[]])}{}``` is correct, but expression ```([)]``` is not."
   ]
  },
  {
   "cell_type": "code",
   "execution_count": 9,
   "metadata": {},
   "outputs": [
    {
     "name": "stdin",
     "output_type": "stream",
     "text": [
      "Please enter a mathematical expression using the correct brackets {2+3(5+5)[6-5]}\n"
     ]
    },
    {
     "name": "stdout",
     "output_type": "stream",
     "text": [
      "Correct input\n"
     ]
    }
   ],
   "source": [
    "string = input(\"Please enter a mathematical expression using the correct brackets\")\n",
    "dist = {}\n",
    "for i in string:\n",
    "    if i in dist.keys():\n",
    "        dist[i] = dist[i] + 1\n",
    "    else:\n",
    "        dist[i] = 1\n",
    "\n",
    "if ('(' in dist) & (')' in dist) & ('[' in dist) & (']' in dist) & ('{' in dist) & ('}' in dist):\n",
    "    if (dist['('] == dist[')']) & (dist['['] == dist[']']) & (dist['{'] == dist['}']):\n",
    "        print(\"Correct input\")\n",
    "    else:\n",
    "        print(\"Incorrect input\")\n",
    "else:\n",
    "    print(\"Incorrect input\")"
   ]
  },
  {
   "cell_type": "markdown",
   "metadata": {
    "id": "tc-8rPlP6iK7"
   },
   "source": [
    "## Task 07 – Queue\n",
    "Write a program that simulates a queue. It will read strings from the input. Consider these inputs as names of people coming to the end of a queue. Whenever “next” is given as input, the program will print out the name on the turn. The program finishes as soon as the queue is empty."
   ]
  },
  {
   "cell_type": "code",
   "execution_count": 15,
   "metadata": {
    "id": "X0o04N6s6iK7"
   },
   "outputs": [
    {
     "name": "stdin",
     "output_type": "stream",
     "text": [
      " miranda\n",
      " marcelo \n",
      " sophie\n",
      " next\n"
     ]
    },
    {
     "name": "stdout",
     "output_type": "stream",
     "text": [
      "\n",
      "miranda\n",
      "\n"
     ]
    },
    {
     "name": "stdin",
     "output_type": "stream",
     "text": [
      " next\n"
     ]
    },
    {
     "name": "stdout",
     "output_type": "stream",
     "text": [
      "\n",
      "marcelo \n",
      "\n"
     ]
    },
    {
     "name": "stdin",
     "output_type": "stream",
     "text": [
      " next\n"
     ]
    },
    {
     "name": "stdout",
     "output_type": "stream",
     "text": [
      "\n",
      "sophie\n",
      "\n",
      "The queue is empty.\n"
     ]
    }
   ],
   "source": [
    "queue = []\n",
    "count = 0\n",
    "while True: \n",
    "    if count > 1: # only checks once the we have looped once, aka after something has been put into thr queue\n",
    "        if len(queue) == 0:\n",
    "            print(\"The queue is empty.\")\n",
    "            break\n",
    "    name = (input()) # asks for a name each time\n",
    "    if name == \"next\": # if condition has to be before appending, otherwise \"done\" would be added to the list\n",
    "        print()\n",
    "        print(queue.pop(0)) # pops each element out of the queue\n",
    "        print()\n",
    "    else:\n",
    "        queue.append(name)  # each time a name is typed in it gets added to the list\n",
    "    #print(*queue) # prints out all the elements of the queue, works as checker\n",
    "    count+=1"
   ]
  },
  {
   "cell_type": "markdown",
   "metadata": {
    "id": "eIhaN3g36iK8"
   },
   "source": [
    "## Task 08 – Unlimited Power\n",
    "Write a function with two arguments – $x$ and $n$. The function returns the value of $x^n$. Use [recursion](https://realpython.com/python-thinking-recursively/#recursive-data-structures-in-python)."
   ]
  },
  {
   "cell_type": "code",
   "execution_count": 1,
   "metadata": {
    "id": "KSGHEAeL6iK8"
   },
   "outputs": [
    {
     "name": "stdout",
     "output_type": "stream",
     "text": [
      "8\n"
     ]
    }
   ],
   "source": [
    "def unlimited (x,n):\n",
    "    if n == 0:  # abbruchbedingung\n",
    "        return 1 \n",
    "    else:\n",
    "        return x * unlimited(x, n-1)\n",
    "    \n",
    "print(unlimited(2,3))"
   ]
  },
  {
   "cell_type": "markdown",
   "metadata": {
    "id": "WBh2WBXY6iK8"
   },
   "source": [
    "## Task 09 – Unlimited Power II\n",
    "Using function for factorial and function $x^n$ from previous task, write a program that reads value of $x$ and prints approximate value of $e^x$. Use this formula (Taylor series) for calculation\n",
    "$$ e^x = 1 + x + \\frac{x^2}{2!} + \\frac{x^3}{3!} + ... + \\frac{x^n}{n!} $$\n",
    "\n",
    "To get precise value of $e^x$, the series would have to be infinite. Suppose that there is some required accuracy, so the calculation finishes as soon as the value of the next element is smaller than given threshold (e.g., 0.000001)."
   ]
  },
  {
   "cell_type": "code",
   "execution_count": 2,
   "metadata": {
    "id": "tRaZgBVX6iK9"
   },
   "outputs": [
    {
     "name": "stdout",
     "output_type": "stream",
     "text": [
      "7.388994708994708 7.38905609893065\n"
     ]
    }
   ],
   "source": [
    "import math\n",
    "\n",
    "def Taylor(x, n): # rechnet die Taylorreihe von e\n",
    "    e_approx = 0\n",
    "    for i in range(n):\n",
    "        e_approx += x**i/math.factorial(i)\n",
    "    \n",
    "    return e_approx\n",
    "\n",
    "def err_e(x, threshold): # loop über die erste Funktion und erweitert n um 1 bis die Differenz weniger ist als der threshold\n",
    "    n = 1\n",
    "    e_approx = Taylor(x, n)\n",
    "    Err = abs(math.exp(x) - e_approx)\n",
    "    while Err > threshold:\n",
    "        n+=1\n",
    "        e_approx = Taylor(x, n)\n",
    "        Err = abs(math.exp(x) - e_approx)\n",
    "        if Err < threshold:\n",
    "            print(e_approx, math.exp(x))\n",
    "\n",
    "err_e(2, 0.0001)\n",
    "    \n",
    "    "
   ]
  },
  {
   "cell_type": "markdown",
   "metadata": {
    "id": "Wl9JCEYM6iK-"
   },
   "source": [
    "## Acknowledgements\n",
    "\n",
    "Redmond, Hsu, Saini, Gupta, Ramsey, Kondrich, Capoor, Cohen, Borus, Kincaid, Malik, and many others. - Stanford CS41"
   ]
  },
  {
   "cell_type": "code",
   "execution_count": null,
   "metadata": {
    "id": "Bx-WQj4v6iK-"
   },
   "outputs": [],
   "source": []
  }
 ],
 "metadata": {
  "colab": {
   "provenance": []
  },
  "kernelspec": {
   "display_name": "Python 3 (ipykernel)",
   "language": "python",
   "name": "python3"
  },
  "language_info": {
   "codemirror_mode": {
    "name": "ipython",
    "version": 3
   },
   "file_extension": ".py",
   "mimetype": "text/x-python",
   "name": "python",
   "nbconvert_exporter": "python",
   "pygments_lexer": "ipython3",
   "version": "3.10.6"
  }
 },
 "nbformat": 4,
 "nbformat_minor": 4
}
