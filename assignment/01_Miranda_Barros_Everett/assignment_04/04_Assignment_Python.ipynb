{
 "cells": [
  {
   "cell_type": "markdown",
   "metadata": {
    "id": "_ikvQGPR7a99"
   },
   "source": [
    "# Assignment 04\n",
    "#### Python Basics IV - Functions, Unity Testing, and Logging\n",
    "\n",
    "This tutorial was written by Terry L. Ruas (University of Göttingen). The references for external contributors for which this material was anyhow adapted/inspired are in the Acknowledgments section (end of the document)."
   ]
  },
  {
   "cell_type": "markdown",
   "metadata": {
    "id": "SchiSV187a9-"
   },
   "source": [
    "This notebook will cover the following tasks:\n",
    "\n",
    "1. Lambda functions\n",
    "2. List comprehensions\n",
    "3. Unity Test\n",
    "4. HTTP Request\n",
    "5. Logging\n",
    "6. Download File"
   ]
  },
  {
   "cell_type": "markdown",
   "metadata": {
    "id": "QOoNCxgu7a-A"
   },
   "source": [
    "## Task 01 – Lambda functions\n",
    "Python supports lambda functions as a handy way to define small, anonymous, i.e., unnamed, functions inline. The basic syntax for lambda functions is:\n",
    "$$\n",
    " \\textbf{lambda}\\text{ parameter1, parameter2, ... : }\\textbf{expression}\n",
    "$$\n",
    "Use a lambda function only to retain the even values in an array of integers. Test your function with an input array of your choosing. Print the input array and the filtered output array to stdout."
   ]
  },
  {
   "cell_type": "code",
   "execution_count": 1,
   "metadata": {
    "id": "5keoJAOw7a-B"
   },
   "outputs": [
    {
     "name": "stdout",
     "output_type": "stream",
     "text": [
      "[1, 2, 3, 4, 5, 6, 7, 8, 9, 10]\n",
      "[2, 4, 6, 8, 10]\n"
     ]
    }
   ],
   "source": [
    "arr = [1,2,3,4,5,6,7,8,9,10]\n",
    "outputArray = []\n",
    "print(arr)\n",
    "\n",
    "function = lambda n : n%2==0\n",
    "\n",
    "for n in arr:\n",
    "    if function(n) == True:\n",
    "        outputArray.append(n)\n",
    "print(outputArray)\n"
   ]
  },
  {
   "cell_type": "markdown",
   "metadata": {
    "id": "XSyLzHT17a-B"
   },
   "source": [
    "## Task 02 – List comprehensions\n",
    "Python supports list comprehension. The basic syntax of list comprehensions is:\n",
    "$$\n",
    "\\text{L = [<elem> for <elem> <Condition>]}\n",
    "$$\n",
    "Use list comprehensions to write a Python function *remove_long_words()* that:\n",
    "- accepts a sentence s and an integer n as input parameters\n",
    "- uses the *split()* function of String objects to split the sentence into words\n",
    "- stores the individual words in a list\n",
    "- removes all words that are longer than n characters from the list, thereby creating a new list\n",
    "- prints the list to stdout"
   ]
  },
  {
   "cell_type": "code",
   "execution_count": 2,
   "metadata": {
    "id": "hT-mGe_T7a-B"
   },
   "outputs": [
    {
     "name": "stdout",
     "output_type": "stream",
     "text": [
      "['This', 'is', 'we', 'it', 'a', 'and', 'all', 'that', 'are']\n"
     ]
    }
   ],
   "source": [
    "s =\"This sentence is quite long, maybe we should shorten it a little and remove all words that are tooooooo long.\"\n",
    "n = 4\n",
    "\n",
    "def remove_long_words(s,n):\n",
    "    old_list = s.split() # Converting sentence into a list of words\n",
    "    new_list = [x for x in old_list if len(x) <= n]\n",
    "    print(new_list)\n",
    "    \n",
    "remove_long_words(s,n)\n",
    "  "
   ]
  },
  {
   "cell_type": "markdown",
   "metadata": {
    "id": "_QHEBddh7a-C"
   },
   "source": [
    "## Task 03 – Unity Test\n",
    "The following algorithm in Python converts numbers in decimal representation to binary.\n",
    "1. Develop a unit test that checks for values in the interval \\[-1,3\\] whether the algorithm returns the\n",
    "expected results.\n",
    "2. Adjust the algorithm, so it passes the unit test developed in 1). Rename the function to\n",
    "*decimal_to_binary_correct()*"
   ]
  },
  {
   "cell_type": "code",
   "execution_count": 6,
   "metadata": {},
   "outputs": [
    {
     "name": "stdout",
     "output_type": "stream",
     "text": [
      "[]\n",
      "[]\n",
      "[1]\n",
      "[1, 0]\n",
      "[1, 1]\n"
     ]
    }
   ],
   "source": [
    "import math\n",
    "def decimal2binary(n):\n",
    "    # function to convert decimal integers to binary\n",
    "    x = []\n",
    "    while n > 0:\n",
    "        x.append(n % 2)\n",
    "        n = math.floor(n/2)\n",
    "    return x[::-1]\n",
    "\n",
    "values = [-1,0,1,2,3] \n",
    "for i in values:\n",
    "    print(decimal2binary(i))\n",
    "    \n",
    "# missing the conversion for negative numbers or 0"
   ]
  },
  {
   "cell_type": "code",
   "execution_count": 7,
   "metadata": {
    "id": "IdFKIU4u7a-C"
   },
   "outputs": [
    {
     "name": "stdout",
     "output_type": "stream",
     "text": [
      "[1, 1]\n",
      "[0]\n",
      "[0, 1]\n",
      "[0, 1, 0]\n",
      "[0, 1, 1]\n"
     ]
    }
   ],
   "source": [
    "import math\n",
    "\n",
    "# im using the notation where in binary the first digit represents if the binary number is positive or negative\n",
    "# where 0 at the beginning of the number means the number is positive and a 1 in front mean its negative\n",
    "\n",
    "def decimal_2_binary_correct(n):\n",
    "        # function to convert decimal integers to binary\n",
    "    x = []\n",
    "    if (n == 0):\n",
    "        x.append(0)\n",
    "        return x\n",
    "    if n > 0:\n",
    "        while n > 0:\n",
    "            x.append(n % 2)\n",
    "            n = math.floor(n/2)\n",
    "        x.append(0) # adds a cero to the end which afterwards will be the beginning of the binary number\n",
    "        return x[::-1] # reads the number from the bottom to the top, so starts with the last result from %2\n",
    "\n",
    "    else:\n",
    "        n = abs(n) # easier to work with the positive version of n and in the end make the changes in the binary number\n",
    "        while n > 0:\n",
    "            n = abs(n)\n",
    "            x.append(n % 2)\n",
    "            n = math.floor(n/2)\n",
    "        x.append(1) #\n",
    "        return x[::-1] \n",
    "    \n",
    "\n",
    "values = [-1,0,1,2,3] \n",
    "for i in values:\n",
    "    print(decimal_2_binary_correct(i))"
   ]
  },
  {
   "cell_type": "code",
   "execution_count": 32,
   "metadata": {},
   "outputs": [
    {
     "name": "stderr",
     "output_type": "stream",
     "text": [
      "E\n",
      "======================================================================\n",
      "ERROR: /home/jovyan/ (unittest.loader._FailedTest)\n",
      "----------------------------------------------------------------------\n",
      "AttributeError: module '__main__' has no attribute '/home/jovyan/'\n",
      "\n",
      "----------------------------------------------------------------------\n",
      "Ran 1 test in 0.002s\n",
      "\n",
      "FAILED (errors=1)\n"
     ]
    },
    {
     "ename": "SystemExit",
     "evalue": "True",
     "output_type": "error",
     "traceback": [
      "An exception has occurred, use %tb to see the full traceback.\n",
      "\u001b[0;31mSystemExit\u001b[0m\u001b[0;31m:\u001b[0m True\n"
     ]
    },
    {
     "name": "stderr",
     "output_type": "stream",
     "text": [
      "/opt/conda/lib/python3.10/site-packages/IPython/core/interactiveshell.py:3386: UserWarning: To exit: use 'exit', 'quit', or Ctrl-D.\n",
      "  warn(\"To exit: use 'exit', 'quit', or Ctrl-D.\", stacklevel=1)\n"
     ]
    }
   ],
   "source": [
    "import unittest\n",
    "\n",
    "class DecimalConversionToBinaryTestCase(unittest.TestCase):\n",
    "    __doc__ = \"check if the function decimal2binary works properly\"\n",
    "\n",
    "    def test_values(self):\n",
    "        \"\"\"Testing values in the [-1,3] interval\"\"\"\n",
    "        values = [-1, 0, 1, 2, 3]\n",
    "        message = \"The value from the self-made function is not equal to the value of the built-in binary function.\"\n",
    "        for i in values:\n",
    "            self.assertEqual(decimal2binary(i), bin(i), message)\n",
    "\n",
    "    if __name__ == '__main__':\n",
    "        unittest.main()"
   ]
  },
  {
   "cell_type": "markdown",
   "metadata": {
    "id": "iNLOQ5y47a-E"
   },
   "source": [
    "## Task 04 – HTTP Request\n",
    "Working with HTTP connections is essential for many data gathering tasks. The Python library *urllib* provides all functionality we need.\n",
    "Write a Python function *open_url(url)* that:\n",
    "- uses urllib to establish a HTTP connection to an arbitrary website\n",
    "- retrieves and prints the first 200 characters of the html resource, i.e. the html source code, of the chosen website\n",
    "- handles the exceptions thrown by the *urllib.request* function\n",
    "\n",
    "FYI: The basic syntax for exception handling in Python is as follows:\n",
    "```\n",
    "try:\n",
    "    ...\n",
    "    return ...\n",
    "except SomeError1 as e:\n",
    "    # error-specific exception handling\n",
    "except SomeError2 as e:\n",
    "    # error-specific exception handling\n",
    "except\n",
    "    # general exception handling\n",
    "```"
   ]
  },
  {
   "cell_type": "code",
   "execution_count": 36,
   "metadata": {},
   "outputs": [
    {
     "name": "stdout",
     "output_type": "stream",
     "text": [
      "<urlopen error [Errno -2] Name or service not known> while connecting to: https://iampotato/\n"
     ]
    }
   ],
   "source": [
    "from urllib.request import urlopen\n",
    "from urllib.error import HTTPError\n",
    "from urllib.error import URLError\n",
    "\n",
    "\n",
    "def open_url(url):\n",
    "    try:\n",
    "        html = urlopen(url)\n",
    "        doc = html.read().decode(\"utf-8\")\n",
    "        html.close()\n",
    "        return doc\n",
    "    except HTTPError as http_e:\n",
    "        print(\"%s while connecting to: %s\" %(http_e, url))\n",
    "        return None\n",
    "    except URLError as url_e:\n",
    "        print(\"%s while connecting to: %s\" %(url_e, url))\n",
    "        return None\n",
    "    except Exception:\n",
    "        if not url.startswith(\"https://\"):\n",
    "            print(\"Please provide a valid URL!\")\n",
    "            return None\n",
    "        \n",
    "\n",
    "url = \"https://www.pictureofhotdog.com/\" # provide an invalid url such as \"https://iamapotato\"\n",
    "html = open_url(url)\n",
    "if html != None:\n",
    "    print(html[0:200])"
   ]
  },
  {
   "cell_type": "markdown",
   "metadata": {
    "id": "ogac-RcI7a-F"
   },
   "source": [
    "## Task 05 – Logging\n",
    "The logging module in Python provides functionality for logging and debugging purposes. Use the logging module to extend the error handling for the function that you implemented to establish a HTTP connection (Task 4). All exceptions thrown by your function shall be logged as errors.\n",
    "\n",
    "To accomplish the task:\n",
    "- write a Python function *init_log(file_name, file_mode, level, format, date_format)* that initializes a custom log file to which all debugging information and errors are appended using a format that includes the date, time, level and the message of the logging event\n",
    "- log occurring errors by calling *logging.error(...)*\n",
    "- close the log after completing your task by calling *logging.shutdown()*\n",
    "\n",
    "If you choose not to complete Tasks 4, test the logging functionality with a few examples of your own."
   ]
  },
  {
   "cell_type": "code",
   "execution_count": 42,
   "metadata": {
    "id": "hT8RvjYU7a-F"
   },
   "outputs": [
    {
     "ename": "NameError",
     "evalue": "name 'CustomLog2' is not defined",
     "output_type": "error",
     "traceback": [
      "\u001b[0;31m---------------------------------------------------------------------------\u001b[0m",
      "\u001b[0;31mNameError\u001b[0m                                 Traceback (most recent call last)",
      "Cell \u001b[0;32mIn [42], line 32\u001b[0m\n\u001b[1;32m     27\u001b[0m         logger5\u001b[38;5;241m.\u001b[39merror(\u001b[38;5;124m\"\u001b[39m\u001b[38;5;124mwe have an unexpected error\u001b[39m\u001b[38;5;124m\"\u001b[39m)\n\u001b[1;32m     29\u001b[0m     logging\u001b[38;5;241m.\u001b[39mshutdown()\n\u001b[0;32m---> 32\u001b[0m \u001b[38;5;28mprint\u001b[39m(\u001b[43mopen_url\u001b[49m\u001b[43m(\u001b[49m\u001b[38;5;124;43m\"\u001b[39;49m\u001b[38;5;124;43mhttps://www.pictureofhotdog.com/\u001b[39;49m\u001b[38;5;124;43m\"\u001b[39;49m\u001b[43m)\u001b[49m)\n",
      "Cell \u001b[0;32mIn [42], line 5\u001b[0m, in \u001b[0;36mopen_url\u001b[0;34m(url)\u001b[0m\n\u001b[1;32m      4\u001b[0m \u001b[38;5;28;01mdef\u001b[39;00m \u001b[38;5;21mopen_url\u001b[39m(url):\n\u001b[0;32m----> 5\u001b[0m     log_documentation \u001b[38;5;241m=\u001b[39m \u001b[43mCustomLog2\u001b[49m(\u001b[38;5;124m\"\u001b[39m\u001b[38;5;124mTask05_log.txt\u001b[39m\u001b[38;5;124m\"\u001b[39m)\n\u001b[1;32m      7\u001b[0m     \u001b[38;5;28;01mtry\u001b[39;00m:\n\u001b[1;32m      8\u001b[0m         link \u001b[38;5;241m=\u001b[39m request\u001b[38;5;241m.\u001b[39murlopen(url)\n",
      "\u001b[0;31mNameError\u001b[0m: name 'CustomLog2' is not defined"
     ]
    }
   ],
   "source": [
    "from urllib import request\n",
    "import logging\n",
    "\n",
    "# Create and configure logger\n",
    "logging.basicConfig(filename=\"FirstLog.log\")\n",
    "\n",
    "\n",
    "def open_url(url):\n",
    "    log_documentation = CustomLog2(\"Task05_log.txt\")\n",
    "\n",
    "    try:\n",
    "        link = request.urlopen(url)\n",
    "        content = link.read()\n",
    "        decoded = content.decode('utf8')\n",
    "        link.close()\n",
    "        logger1 = logging.getLogger(\"app area 1 (try)\") # Creating an Object\n",
    "        logger1.info(\"OK. Code is running correctly\")\n",
    "        return decoded[:200]\n",
    "\n",
    "    except HTTPError as http_e:\n",
    "        print(\"%s while connecting to: %s\" %(http_e, url))\n",
    "        logger2 = logging.getLogger(\"expected errors\") # Creating an Object\n",
    "        logger2.error(\"A HTTP Error has occured while connecting\")\n",
    "    except URLError as url_e:\n",
    "        print(\"%s while connecting to: %s\" %(url_e, url))\n",
    "        logger3 = logging.getLogger(\"expected errors\") # Creating an Object\n",
    "        logger3.error(\"A URL Error has occured while connecting\")\n",
    "    except Exception:\n",
    "        print(\"Invalid URL format\")\n",
    "        logger4 = logging.getLogger(\"unexpected errors\") \n",
    "        logger4.error(\"we have an unexpected error\")\n",
    "\n",
    "    logging.shutdown()\n",
    "\n",
    "\n",
    "print(open_url(\"https://www.pictureofhotdog.com/\"))"
   ]
  },
  {
   "cell_type": "markdown",
   "metadata": {
    "id": "FFvlZPUc7a-G"
   },
   "source": [
    "## Task 06 – Download File\n",
    "In Task 4, you used the *urllib* library to establish a http connection. You can also use the *urllib* library to perform simple file downloads.\n",
    "\n",
    "Write a Python function *download_file(url, path)* that:\n",
    "- checks whether the input URL points to a .txt file\n",
    "- if the input URL points to a .txt file, uses the *urllib* library to download and write the text file to the given path on your machine\n",
    "- logs an error “No text file found at given URL, download aborted!” to the log file created in Task 5 if the input URL does not point to a .txt file.\n",
    "- properly handles exceptions\n",
    "\n",
    "Use the *download_file()* function to download William Shakespeare’s drama Macbeth as a plain\n",
    "text file from: [Macbeth](https://ia802707.us.archive.org/1/items/macbeth02264gut/0ws3410.txt)"
   ]
  },
  {
   "cell_type": "code",
   "execution_count": null,
   "metadata": {
    "id": "3L-DwhcZ7a-G"
   },
   "outputs": [],
   "source": [
    "import os.path\n",
    "\n",
    "def download_file(url, path):\n",
    "    url_str = str(url)\n",
    "    local_file = os.path.join(path, url_str[-10:-3] + '.txt')\n",
    "    if not os.path.isdir(path):\n",
    "        inp = input(f'A path has not been created yet for this file. \\n'\n",
    "                     f' Type in Yes if you wish to create a path')\n",
    "        if inp == 'Yes':\n",
    "            os.mkdir(path)\n",
    "        else:\n",
    "            print(\"The download has been cancelled\")\n",
    "            quit()\n",
    "    try:\n",
    "        if url_str[-4:] == '.txt':\n",
    "            request.urlretrieve(url, local_file)\n",
    "        else:\n",
    "            raise \"No text file found at given URL\"\n",
    "\n",
    "    except:\n",
    "        raise \"Unexpected error\"\n",
    "\n",
    "\n",
    "download_file('https://ia802707.us.archive.org/1/items/macbeth02264gut/0ws3410.txt',\n",
    "              \"path\")\n",
    "    "
   ]
  },
  {
   "cell_type": "code",
   "execution_count": null,
   "metadata": {},
   "outputs": [],
   "source": []
  }
 ],
 "metadata": {
  "colab": {
   "provenance": []
  },
  "kernelspec": {
   "display_name": "Python 3 (ipykernel)",
   "language": "python",
   "name": "python3"
  },
  "language_info": {
   "codemirror_mode": {
    "name": "ipython",
    "version": 3
   },
   "file_extension": ".py",
   "mimetype": "text/x-python",
   "name": "python",
   "nbconvert_exporter": "python",
   "pygments_lexer": "ipython3",
   "version": "3.10.6"
  }
 },
 "nbformat": 4,
 "nbformat_minor": 4
}
