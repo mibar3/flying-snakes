{
 "cells": [
  {
   "cell_type": "markdown",
   "metadata": {
    "id": "3i7Q6MM_7a82"
   },
   "source": [
    "# Assignment 03\n",
    "#### Python Basics III - Functions and Classes\n",
    "\n",
    "This tutorial was written by Terry L. Ruas (University of Göttingen). The references for external contributors for which this material was anyhow adapted/inspired are in the Acknowledgments section (end of the document)."
   ]
  },
  {
   "cell_type": "markdown",
   "metadata": {
    "id": "eKtTDCOS7a83"
   },
   "source": [
    "This notebook will cover the following tasks:\n",
    "\n",
    "1. Dictionary\n",
    "2. Classes"
   ]
  },
  {
   "cell_type": "markdown",
   "metadata": {
    "id": "XumFInmh7a85"
   },
   "source": [
    "## Task 01 – Dictionary\n",
    "Imagine you have to write a (very simple) bookkeepingsystem for a bank that keeps track of the account balances of each of its customers.\n",
    "1. Write a function that spans a dictionary holding a default balance of 0 for an initial list of customers. For simplicity, assume customer names are unique identifier.  (optional) Can you express that same functionality using a lambda function?\n",
    "2. What are elegant ways to add or remove single and multiple customers using the functionality of dict?\n",
    "3. Now write two simple functions that allow you to deposit and withdraw money for a given bank customer.\n",
    "4. Include error messages for inputs that are not permissible, e.g., withdrawing negative amounts or overdrawing the account, etc."
   ]
  },
  {
   "cell_type": "code",
   "execution_count": 33,
   "metadata": {},
   "outputs": [
    {
     "name": "stdout",
     "output_type": "stream",
     "text": [
      "None\n",
      "Mariana's new balance ist: 400\n"
     ]
    }
   ],
   "source": [
    "def checks_data(book):\n",
    "    print(book.keys()) # Only the keys that are in the dict, but not what is stored there\n",
    "    print(book.values()) # Only the values, but not where they are\n",
    "    print(book.items()) # Both the keys and what is stored there\n",
    "\n",
    "def deposit_amount(name,amount,book):\n",
    "    if amount < 1000:\n",
    "        if name in book.keys(): # checking if the name is already and existing key\n",
    "            book[name] = book[name] + amount\n",
    "        else: # if not existent then customer is added\n",
    "            add_customer(name, amount, book)\n",
    "    else:\n",
    "        raise ValueError(\"The amount to deposit is too high. Please deposit a lower amount\")\n",
    "\n",
    "def withdraw_amount(name,amount,book):\n",
    "    if name in book.keys():\n",
    "        if book[name] != 0 and book[name] > amount:\n",
    "            book[name] = book[name] - amount\n",
    "        else:\n",
    "            raise ValueError(\"The customer does not have enough credit to withdraw the selected amount\")\n",
    "    else:\n",
    "        raise ValueError(\"This person is not registered.\")\n",
    "\n",
    "# In case the customer doesnt already exist within the book\n",
    "def add_customer(name, amount, book):\n",
    "    if name in book.keys():\n",
    "        pass\n",
    "    else:\n",
    "        dist[name] = amount\n",
    "\n",
    "# Testing\n",
    "book = {'Miranda': None, 'Mariana': 100, \"Belen\": 50}\n",
    "#span_dictionary(amount)\n",
    "#print(deposit_money(account_balances))\n",
    "#print(deposit_amount('Miranda',2000,book)) # to check the max amount allowed to be deposited\n",
    "#print(deposit_amount('Adriana',500,book)) # to check if a new customer can be added\n",
    "#print(withdraw_amount('Tomas', 250,book)) # to check no amount can be withdrawn from a non-existent account\n",
    "print(deposit_amount('Mariana',300,book))\n",
    "print(\"Mariana's new balance ist:\",book['Mariana'])"
   ]
  },
  {
   "cell_type": "markdown",
   "metadata": {
    "id": "9tMOI3tn7a86"
   },
   "source": [
    "## Task 02 – Classes\n",
    "The manager thinks that the simple bookkeeping system you have built is not powerful enough. She requests that you start from scratch and use classes instead.\n",
    "1. Write a simple class with appropriate constructor *\\_\\_init\\_\\_* that initializes an object of class *Customer* tracking the same information as in Task 01.\n",
    "2. Now write two simple methods for class *Customer* that allow you to deposit and withdraw money for a given customer object.\n",
    "3. Include error messages for inputs that are not permissible, e.g., withdrawing negative amounts or overdrawing the account.\n",
    "4. (Inheritance) Write a child class *SavingsCustomer* that inherits its features from the parent class *Customer*. A savings customer has an extra savings balance for receiving extra interest. The class should have a method to transfer money back and forth between the accounts' main balance as well as the savings balance. Do not forget to add reasonable error messages."
   ]
  },
  {
   "cell_type": "code",
   "execution_count": 25,
   "metadata": {},
   "outputs": [
    {
     "ename": "SyntaxError",
     "evalue": "invalid syntax. Perhaps you forgot a comma? (1850979428.py, line 51)",
     "output_type": "error",
     "traceback": [
      "\u001b[0;36m  Cell \u001b[0;32mIn [26], line 51\u001b[0;36m\u001b[0m\n\u001b[0;31m    print(\"The current balance of\",self.name\", is:\",self.balance,\"saving:\",self.savings)\u001b[0m\n\u001b[0m                                   ^\u001b[0m\n\u001b[0;31mSyntaxError\u001b[0m\u001b[0;31m:\u001b[0m invalid syntax. Perhaps you forgot a comma?\n"
     ]
    }
   ],
   "source": [
    "class Customer:\n",
    "    def __init__(self, name, balance):\n",
    "        self.name = name\n",
    "        self.balance = balance\n",
    "    \n",
    "    def deposit(self, amount):\n",
    "        self.balance = self.balance + amount\n",
    "\n",
    "    def withdraw(self, amount):\n",
    "        if amount < 0:\n",
    "            raise ValueError(\"Cannot withdraw an amount lower to 0\")\n",
    "        elif amount > self.balance:\n",
    "            raise ValueError(\"The account doesn't have enough balance for this withdrawal\")\n",
    "        else:\n",
    "            self.balance = self.balance - amount\n",
    "            print(\"The new balance of this account is:\",self.balance)\n",
    "    \n",
    "    def deposit(self,amount):\n",
    "        if amount < 0:\n",
    "            raise ValueError(\"An amount lower than 1 cannot be deposited into the account\")\n",
    "        elif amount > 100000000:\n",
    "            raise ValueError(\"The amount you wish to deposit is too high\")\n",
    "        else:\n",
    "            self.balance = self.balance + amount\n",
    "            print(\"The new balance of this account is:\",self.balance)\n",
    "\n",
    "class SavingsCustomer(Customer):\n",
    "    def __init__(self, name, balance, savings):\n",
    "        Customer.__init__(self, name, balance)\n",
    "        # print(\"SavingsCustomer init called\") # Used to check code works\n",
    "        self.savings = savings\n",
    "        \n",
    "    def main_to_savings(self, amount):\n",
    "        if amount <= 0:\n",
    "            raise ValueError(\"It is not possible to transfer an amount lower than 1\")\n",
    "        elif amount > self.balance:\n",
    "            raise ValueError(\"The amount is too high\")\n",
    "        else:\n",
    "            self.balance = self.balance - amount\n",
    "            self.savings = self.savings + amount\n",
    "            print(\"balance:\",self.balance,\"saving:\",self.savings)\n",
    "\n",
    "    def savings_to_main(self, amount):\n",
    "        if amount <= 0:\n",
    "            raise ValueError(\"It is not possible to transfer an amount lower than 1\")\n",
    "        elif amount > self.savings:\n",
    "            raise ValueError(\"The amount is too high\")\n",
    "        else:\n",
    "            self.savings = self.savings - amount\n",
    "            self.balance = self.balance + amount\n",
    "            print(\"The current balance of\",self.name, is:\",self.balance,\"saving:\",self.savings)\n",
    " \n",
    " \n",
    "\n",
    "savings = SavingsCustomer(\"Miranda\", 80, 20)\n",
    "savings.main_to_savings(50)\n",
    "savings.savings_to_main(50)\n",
    "\n",
    "\n",
    "\n",
    "\n",
    "\n",
    "\n",
    "\n",
    "\n",
    "\n",
    "\n",
    "\n",
    "\n"
   ]
  },
  {
   "cell_type": "code",
   "execution_count": null,
   "metadata": {
    "id": "mcZ6wBOO7a86"
   },
   "outputs": [],
   "source": [
    "class Customer:\n",
    "    def __init__(self, name, balance=0):\n",
    "        self.name = name\n",
    "        self.balance = balance\n",
    "\n",
    "    def deposit(self, amount):\n",
    "        self.balance = self.balance + amount\n",
    "\n",
    "    def withdraw(self, amount):\n",
    "        if amount < 0:\n",
    "            print(\"Withdrawing negative amounts\")\n",
    "        elif amount > self.balance:\n",
    "            print(\"Overdrawing the account\")\n",
    "        else:\n",
    "            self.balance = self.balance - amount\n",
    "            print(self.balance)\n",
    "\n",
    "\n",
    "class SavingsCustomer(Customer):\n",
    "    def __init__(self, name, balance, saving=0):\n",
    "        Customer.__init__(self, name, balance)\n",
    "        self.saving = saving\n",
    "\n",
    "    def mainbalance_to_saving(self, amount):\n",
    "        if amount <= 0:\n",
    "            print(\"Cannot transfer negative amount or 0\")\n",
    "        elif amount > self.balance:\n",
    "            print(\"Over credits\")\n",
    "        else:\n",
    "            self.balance = self.balance - amount\n",
    "            self.saving = self.saving + amount\n",
    "            print(\"balance:\" + str(self.balance) + \"saving:\" + str(self.saving))\n",
    "\n",
    "    def saving_to_mainbalance(self, amount):\n",
    "        if amount <= 0:\n",
    "            print(\"Cannot transfer negative amount or 0\")\n",
    "        elif amount > self.saving:\n",
    "            print(\"Over credits\")\n",
    "        else:\n",
    "            self.saving = self.saving - amount\n",
    "            self.balance = self.balance + amount\n",
    "            print(\"balance:\" + str(self.balance) + \"saving:\" + str(self.saving))\n",
    "\n",
    "\n",
    "# Testing\n",
    "'''customer = Customer(\"Iris\", 100)\n",
    "customer.deposit(10)\n",
    "customer.withdraw(90)'''\n",
    "\n",
    "sav_customer = SavingsCustomer(\"May\", 80)\n",
    "sav_customer.mainbalance_to_saving(50)"
   ]
  }
 ],
 "metadata": {
  "colab": {
   "provenance": []
  },
  "kernelspec": {
   "display_name": "Python 3 (ipykernel)",
   "language": "python",
   "name": "python3"
  },
  "language_info": {
   "codemirror_mode": {
    "name": "ipython",
    "version": 3
   },
   "file_extension": ".py",
   "mimetype": "text/x-python",
   "name": "python",
   "nbconvert_exporter": "python",
   "pygments_lexer": "ipython3",
   "version": "3.10.6"
  }
 },
 "nbformat": 4,
 "nbformat_minor": 4
}
