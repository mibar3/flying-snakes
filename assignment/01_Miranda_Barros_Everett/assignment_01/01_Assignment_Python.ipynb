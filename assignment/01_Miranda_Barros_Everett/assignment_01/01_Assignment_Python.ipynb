{
 "cells": [
  {
   "cell_type": "markdown",
   "metadata": {
    "id": "LZgQdr4W6iKz"
   },
   "source": [
    "# Assignment 01\n",
    "##### Python Basics I\n",
    "\n",
    "This tutorial was written by Terry Ruas (University of Göttingen). The references for external contributors for which this material was anyhow adapted/inspired are in the Acknowledgments section (end of the document).\n"
   ]
  },
  {
   "cell_type": "markdown",
   "metadata": {
    "id": "4GPUv_8U6iK1"
   },
   "source": [
    "## Task 01 – Hello World!\n",
    "Write a simple program that asks the user to input a name and outputs a simple greeting, such as ‘Hi Name! Nice to meet you!’ and in the other line, ‘Welcome to the Programing Course!’. \n",
    "\n",
    "*Hint: Check out the input () and print() function in Python.* "
   ]
  },
  {
   "cell_type": "code",
   "execution_count": 3,
   "metadata": {
    "id": "xt3XV0YD6iK2"
   },
   "outputs": [
    {
     "name": "stdout",
     "output_type": "stream",
     "text": [
      "Would you mind telling me your name?\n"
     ]
    },
    {
     "name": "stdin",
     "output_type": "stream",
     "text": [
      " pelo\n"
     ]
    },
    {
     "name": "stdout",
     "output_type": "stream",
     "text": [
      "\n",
      "Hi pelo! Nice to meet you!\n",
      "Welcome to the Programming Course!\n"
     ]
    }
   ],
   "source": [
    "name = input(\"Would you mind telling me your name?\")\n",
    "print()\n",
    "print(\"Hi \" +name+ \"! Nice to meet you!\")\n",
    "print(\"Welcome to the Programming Course!\")"
   ]
  },
  {
   "cell_type": "markdown",
   "metadata": {
    "id": "_Jz4T4AQ6iK3"
   },
   "source": [
    "## Task 02 – Reversed Words\n",
    "Write a program that reads in a word provided by the user and prints the word in a reversed order. For example, if the input is hello, the output should be ‘olleh’. \n",
    "\n",
    "- Use a loop structure \n",
    "- Use just array indexes \n"
   ]
  },
  {
   "cell_type": "code",
   "execution_count": 2,
   "metadata": {
    "id": "aKLGcZ0_6iK3"
   },
   "outputs": [
    {
     "name": "stdout",
     "output_type": "stream",
     "text": [
      "Type in a word:\n"
     ]
    },
    {
     "name": "stdin",
     "output_type": "stream",
     "text": [
      " poto\n"
     ]
    },
    {
     "name": "stdout",
     "output_type": "stream",
     "text": [
      "\n",
      "otop\n"
     ]
    }
   ],
   "source": [
    "string = input(\"Type in a word: \")\n",
    "print()\n",
    "\n",
    "reverse = ''\n",
    "for i in range(len(string), 0, -1): # range function begins to loop in the last item in string, ends in 0, and moves backwards with -1\n",
    "   reverse += string[i-1]           # with each loop reverse gets added the the item that came before it\n",
    "\n",
    "print(reverse)\n"
   ]
  },
  {
   "cell_type": "markdown",
   "metadata": {
    "id": "PalhJ9x36iK4"
   },
   "source": [
    "## Task 03 –  Fibonacci Numbers\n",
    "Write a program that reads in an upper bound (number) provided by the user and prints the sequence of Fibonacci numbers that are less or equal to the number given by the user. Use a while-loop for this task. \n",
    "\n",
    "The Fibonacci sequence is defined as \n",
    "$ F_{n}=F_{n−1}+F_{n−2}$. Use $F_{0}=0$ and $F_{1} = 1$ as seed values.  \n",
    "\n",
    "For example, if the user inputs 6, the output should be 0, 1, 1, 2, 3, 5. \n",
    "\n",
    "\n",
    "\n"
   ]
  },
  {
   "cell_type": "code",
   "execution_count": 6,
   "metadata": {
    "id": "vm5UlcKB6iK4"
   },
   "outputs": [
    {
     "name": "stdin",
     "output_type": "stream",
     "text": [
      " 6\n"
     ]
    },
    {
     "name": "stdout",
     "output_type": "stream",
     "text": [
      "0, 1, 1, 2, 3, 5. "
     ]
    }
   ],
   "source": [
    "# The length Fibonacci sequence\n",
    "length = int(input())\n",
    "\n",
    "# The first two values and loop counter\n",
    "current = 0\n",
    "next = 1\n",
    "counter = 0\n",
    "\n",
    "if length == 0:\n",
    "   print(0)\n",
    "elif length == 1:\n",
    "   print(1)\n",
    "else:\n",
    "   while counter < length:\n",
    "    if counter < length-1: \n",
    "           print(current, end=', ')\n",
    "    elif counter == length-1:\n",
    "        print(current, end='. ')\n",
    "    tmp = current + next\n",
    "    # Modify values\n",
    "    current = next\n",
    "    next = tmp\n",
    "    counter += 1"
   ]
  },
  {
   "cell_type": "markdown",
   "metadata": {
    "id": "JV1Mm9qA6iK5"
   },
   "source": [
    "## Task 04 – Selective Printing \n",
    "\n",
    "Write a program that reads in an upper bound (number) provided by the user and prints all integer numbers that are less or equal to the upper bound except the integer numbers that are divisible by 3. Use the continue statement. For example, if the user enters 6 as the upper bound, the output should be 0, 1, 2, 4, 5.  "
   ]
  },
  {
   "cell_type": "code",
   "execution_count": 5,
   "metadata": {
    "id": "C3i7ctus6iK6"
   },
   "outputs": [
    {
     "name": "stdin",
     "output_type": "stream",
     "text": [
      " 6\n"
     ]
    },
    {
     "name": "stdout",
     "output_type": "stream",
     "text": [
      "0, 1, 2, 4, 5, "
     ]
    }
   ],
   "source": [
    "length = int(input())\n",
    "count = 0\n",
    "while count < length:\n",
    "    if count == 0:\n",
    "        print(count, end=', ')\n",
    "    elif count%3 != 0:\n",
    "        print(count, end=', ')\n",
    "    count+=1\n",
    "    "
   ]
  },
  {
   "cell_type": "markdown",
   "metadata": {
    "id": "qz4P36Lz6iK6"
   },
   "source": [
    "## Task 05 – Triangle Checking   \n",
    "\n",
    "Write a Python program that asks the user to input the lengths of the sides in a triangle and outputs whether the triangle is equilateral, isosceles, or scalene. The program should also check for the Triangle inequality $(z < x + y)$,  and prompt the user for a valid input. \n",
    "\n",
    "- An equilateral triangle is a triangle in which all three sides are of equal length. \n",
    "- An isosceles triangle is a triangle with (at least) two sides of equal length. \n",
    "- A scalene triangle is a triangle in which all three sides have different lengths. \n",
    "\n",
    "For example, if the user inputs a=3, b=4, c=5, the triangle is scalene. \n"
   ]
  },
  {
   "cell_type": "code",
   "execution_count": null,
   "metadata": {},
   "outputs": [],
   "source": [
    "print(\"Please type in the lengths of the sides of your triangle:\")\n",
    "a = int(input(\"a: \"))\n",
    "print()\n",
    "b = int(input(\"b: \"))\n",
    "print()\n",
    "c = int(input(\"c: \"))\n",
    "print()\n",
    "\n",
    "if c == a and a == b:\n",
    "    print(\"Your triangle is equilateral, yay symmetry i guess\")\n",
    "elif (c == a and c !=b) or (a == b and c != b) or (b == c and a != c):\n",
    "    print(\"Your triangle is isosceles, so two sides are basically third wheelin' the third one :/\")\n",
    "else:\n",
    "    print(\"Your triangle is a quirky scalene, since all its sides are of different lenghts <3\")\n",
    "    \n",
    "# Checks for the Triangle inequality\n",
    "if (a+b)>c:\n",
    "    print()\n",
    "    print(\"Oh, and the Triangle inequality is being met.\")"
   ]
  },
  {
   "cell_type": "markdown",
   "metadata": {
    "id": "k1kh3odh6iK7"
   },
   "source": [
    "## Task 06 – Decimal to Octal Conversion \n",
    "\n",
    "Write a program that reads a non-negative integer number in the decimal representation provided by the user and prints the octal representation of the number. For example, if the user enters 167, the output should be 247.  \n",
    "\n",
    "Write a more general program that reads in a non-negative number (potentially including decimal places) in the decimal representation provided by the user and prints the octal representation of the number. For example, if the user enters 25.11, the output should be 31.0702436560507534. "
   ]
  },
  {
   "cell_type": "code",
   "execution_count": null,
   "metadata": {},
   "outputs": [],
   "source": [
    "def DecimalOctal(num):\n",
    "    # define octal number and initialize it to 0\n",
    "    octal = 0\n",
    "    i = 1\n",
    "    while num > 0:\n",
    "        octal += (num % 8) * i  # remainder is calculated and multiplied by i in each loop, each time adding the result to octal\n",
    "        num //= 8  # num is divided by 8 until it reaches 0\n",
    "        i *= 10\n",
    "    return octal\n",
    "\n",
    "num = int(input(\"Enter an integer decimal value: \"))\n",
    "print(DecimalOctal(num))"
   ]
  },
  {
   "cell_type": "code",
   "execution_count": null,
   "metadata": {},
   "outputs": [],
   "source": [
    "def FloatDecimalOctal(num):\n"
   ]
  },
  {
   "cell_type": "markdown",
   "metadata": {
    "id": "Wl9JCEYM6iK-"
   },
   "source": [
    "## Acknowledgements\n",
    "\n",
    "Redmond, Hsu, Saini, Gupta, Ramsey, Kondrich, Capoor, Cohen, Borus, Kincaid, Malik, and many others. - Stanford CS41"
   ]
  },
  {
   "cell_type": "code",
   "execution_count": null,
   "metadata": {
    "id": "Bx-WQj4v6iK-"
   },
   "outputs": [],
   "source": []
  }
 ],
 "metadata": {
  "colab": {
   "collapsed_sections": [],
   "provenance": []
  },
  "kernelspec": {
   "display_name": "Python 3 (ipykernel)",
   "language": "python",
   "name": "python3"
  },
  "language_info": {
   "codemirror_mode": {
    "name": "ipython",
    "version": 3
   },
   "file_extension": ".py",
   "mimetype": "text/x-python",
   "name": "python",
   "nbconvert_exporter": "python",
   "pygments_lexer": "ipython3",
   "version": "3.10.6"
  }
 },
 "nbformat": 4,
 "nbformat_minor": 4
}
